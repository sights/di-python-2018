{
 "cells": [
  {
   "cell_type": "markdown",
   "metadata": {},
   "source": [
    "# Templates?"
   ]
  },
  {
   "cell_type": "markdown",
   "metadata": {},
   "source": [
    "Templates are a way to generate dynamic html code. Meaning adding variables, for loops and if statements to the HTML code.<br>\n",
    "The template is written in a template language which combines python and HTML. <br>\n",
    "There a lot of python modules that can convert template to html code (called template engines), flask use __jinja2__"
   ]
  },
  {
   "cell_type": "markdown",
   "metadata": {},
   "source": [
    "> Templates are stored in .html files"
   ]
  },
  {
   "cell_type": "markdown",
   "metadata": {},
   "source": [
    "# Delimiters"
   ]
  },
  {
   "cell_type": "markdown",
   "metadata": {},
   "source": [
    "-  __{%....%}__ are for statements\n",
    "-  __{{....}}__ are expressions used to print to template output\n",
    "-  __{#....#}__ are for comments which are not included in the template output"
   ]
  },
  {
   "cell_type": "markdown",
   "metadata": {},
   "source": [
    "# Deal with no indentation"
   ]
  },
  {
   "cell_type": "markdown",
   "metadata": {},
   "source": [
    "Because html doesn't support indentation, we close the statements with an __{% endstatement %}__ "
   ]
  },
  {
   "cell_type": "markdown",
   "metadata": {},
   "source": [
    "***"
   ]
  },
  {
   "cell_type": "markdown",
   "metadata": {},
   "source": [
    "# Variables"
   ]
  },
  {
   "cell_type": "markdown",
   "metadata": {},
   "source": [
    "&lt;p> Hi {{ name }}, how are you today? &lt;/p>"
   ]
  },
  {
   "cell_type": "markdown",
   "metadata": {},
   "source": [
    "# Statements"
   ]
  },
  {
   "cell_type": "markdown",
   "metadata": {},
   "source": [
    "## if statement\n",
    "<pre><code>\n",
    "{% if name == \"Eyal\" %}\n",
    "    &lt;p> Hello Eyal &lt;/p>\n",
    "{% else %}\n",
    "    &lt;p> Who are you ? &lt;/p>\n",
    "{% endif %}\n",
    "</pre></code>"
   ]
  },
  {
   "cell_type": "markdown",
   "metadata": {},
   "source": [
    "## for statement\n",
    "<pre><code>\n",
    "{% for name in [\"Eyal\", \"Mario\", \"Luigi\"] %}\n",
    "    &lt;p> Hello {{ name }} &lt;/p>\n",
    "{% endfor %}\n",
    "</pre></code>"
   ]
  },
  {
   "cell_type": "markdown",
   "metadata": {},
   "source": [
    "***"
   ]
  },
  {
   "cell_type": "markdown",
   "metadata": {},
   "source": [
    "# Template inheritance"
   ]
  },
  {
   "cell_type": "markdown",
   "metadata": {},
   "source": [
    "A lot of times, the base of the site is the same, templates enable us to create a Parent template with a fillable part that can be filled with a Child template."
   ]
  },
  {
   "cell_type": "markdown",
   "metadata": {},
   "source": [
    "## Add a fillable block of code\n",
    "<br>\n",
    "### In the parent template\n",
    "__{% block %}{% endblock %}__ remain a part of code empty in a template<br>\n",
    "\n",
    "### In the child template\n",
    "In the child template, you need to specify that you are extending the parent template, with __{% extends \"name_of_the_template.html\" %}__.<br>\n",
    "Then you need to open the __{% block %}__ tag and write the code that have to be injected to the Parent template <br>\n",
    "\n",
    ">You can add more than one block, and then give them a name with __{% block blockname %}{% endblock %}__"
   ]
  },
  {
   "cell_type": "markdown",
   "metadata": {},
   "source": [
    "***\n",
    "# Transform template to HTML code"
   ]
  },
  {
   "cell_type": "markdown",
   "metadata": {},
   "source": [
    "`flask.render_template_string` is a flask function that can render a template to html code. The template needs to be filled with variables, that need to be injected into that function.<br>\n",
    "__Example:__ `flask.render_template_string(my_template, name=\"Eyal\")`<br>\n",
    "> A template can also be rendered from a file, with `flask.render_template(file, args)`, the files need to be in a `templates/` folder"
   ]
  }
 ],
 "metadata": {
  "kernelspec": {
   "display_name": "Python 3",
   "language": "python",
   "name": "python3"
  },
  "language_info": {
   "codemirror_mode": {
    "name": "ipython",
    "version": 3
   },
   "file_extension": ".py",
   "mimetype": "text/x-python",
   "name": "python",
   "nbconvert_exporter": "python",
   "pygments_lexer": "ipython3",
   "version": "3.6.5"
  }
 },
 "nbformat": 4,
 "nbformat_minor": 2
}
