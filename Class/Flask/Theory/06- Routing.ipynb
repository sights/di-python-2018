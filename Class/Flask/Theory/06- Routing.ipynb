{
 "cells": [
  {
   "cell_type": "markdown",
   "metadata": {},
   "source": [
    "# Routing"
   ]
  },
  {
   "cell_type": "markdown",
   "metadata": {},
   "source": [
    "In any programs, you never want to use with hard coded strings, like urls. That's why a lot of routing functions are available from flask.\n",
    "***"
   ]
  },
  {
   "cell_type": "markdown",
   "metadata": {},
   "source": [
    "### `flask.url_for`\n",
    "`flask.url_for` is a flask function that return the url mapped with a given view.<br>\n",
    "Thus if you change the name of the url in the route decorator of the function, you don't have to change it in every line of code.<br>\n",
    "`url_for` can also be used in templates.<br>\n",
    "__Example (create a button that redirect to index):__"
   ]
  },
  {
   "cell_type": "raw",
   "metadata": {},
   "source": [
    "<a href=\"/index\"> Index </a>                    // Wrong usage\n",
    "\n",
    "<a href={{ url_for('index_func') }}> Index </a> // Right usage"
   ]
  },
  {
   "cell_type": "markdown",
   "metadata": {},
   "source": [
    "For more on `url_for`, see <a href=\"http://flask.pocoo.org/docs/1.0/api/#flask.url_for\">doc</a>\n",
    "***"
   ]
  },
  {
   "cell_type": "markdown",
   "metadata": {},
   "source": [
    "### `flask.redirect`\n",
    "`flask.redirect` function return a response that redirect to another url, you can use it with `url_for`.<br>\n",
    "__Example of a view that redirect to the index:__"
   ]
  },
  {
   "cell_type": "code",
   "execution_count": null,
   "metadata": {},
   "outputs": [],
   "source": [
    "import flask\n",
    "\n",
    "@app.route(\"/nowhere\")\n",
    "def redirecting_view():\n",
    "    return flask.redirect(flask.url_for('index'))"
   ]
  }
 ],
 "metadata": {
  "kernelspec": {
   "display_name": "Python 3",
   "language": "python",
   "name": "python3"
  },
  "language_info": {
   "codemirror_mode": {
    "name": "ipython",
    "version": 3
   },
   "file_extension": ".py",
   "mimetype": "text/x-python",
   "name": "python",
   "nbconvert_exporter": "python",
   "pygments_lexer": "ipython3",
   "version": "3.6.5"
  }
 },
 "nbformat": 4,
 "nbformat_minor": 2
}
