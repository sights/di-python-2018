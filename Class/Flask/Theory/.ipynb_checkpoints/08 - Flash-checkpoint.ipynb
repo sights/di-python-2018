{
 "cells": [
  {
   "cell_type": "markdown",
   "metadata": {},
   "source": [
    "# Flash\n",
    "Flash is a way to render messages to the user.<br>\n",
    "You can flash a message with `flask.flash(my_message)`"
   ]
  },
  {
   "cell_type": "code",
   "execution_count": null,
   "metadata": {},
   "outputs": [],
   "source": [
    "flask.flash(\"Added new juice\")"
   ]
  },
  {
   "cell_type": "markdown",
   "metadata": {},
   "source": [
    "To get those flashed messages you can use `flask.get_flask_messages()`"
   ]
  },
  {
   "cell_type": "markdown",
   "metadata": {},
   "source": [
    "In a template, you can display them like this:"
   ]
  },
  {
   "cell_type": "raw",
   "metadata": {},
   "source": [
    "{% if get_flashed_messages() %}\n",
    "    {% for message in get_flashed_messages() %}\n",
    "        <li> {{ message }} </li>\n",
    "    {% endfor %}\n",
    "{% endif %}"
   ]
  },
  {
   "cell_type": "markdown",
   "metadata": {},
   "source": [
    "For better understanding, you can use `with`"
   ]
  },
  {
   "cell_type": "raw",
   "metadata": {},
   "source": [
    "{% with messages = get_flashed_messages() %}\n",
    "    {% if messages %}\n",
    "        {% for message in messages %}\n",
    "            <li> {{ message }} </li>\n",
    "        {% endfor %}\n",
    "    {% endif %}\n",
    "{% endwith %}"
   ]
  }
 ],
 "metadata": {
  "kernelspec": {
   "display_name": "Python 3",
   "language": "python",
   "name": "python3"
  },
  "language_info": {
   "codemirror_mode": {
    "name": "ipython",
    "version": 3
   },
   "file_extension": ".py",
   "mimetype": "text/x-python",
   "name": "python",
   "nbconvert_exporter": "python",
   "pygments_lexer": "ipython3",
   "version": "3.7.3"
  }
 },
 "nbformat": 4,
 "nbformat_minor": 2
}
