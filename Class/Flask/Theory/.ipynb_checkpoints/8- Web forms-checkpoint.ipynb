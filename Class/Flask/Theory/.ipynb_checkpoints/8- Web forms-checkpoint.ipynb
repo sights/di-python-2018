{
 "cells": [
  {
   "cell_type": "markdown",
   "metadata": {},
   "source": [
    "# What is a form ? \n",
    "A web form is a page that allows for user input, by displaying particular fields."
   ]
  },
  {
   "cell_type": "markdown",
   "metadata": {},
   "source": [
    "***\n",
    "# HTML web form"
   ]
  },
  {
   "cell_type": "markdown",
   "metadata": {},
   "source": [
    "### The `<form>` element\n",
    "Defines a form to collect user input\n",
    "### The `action` Attribute\n",
    "The action attribute defines the action to be performed when the form is submitted.\n",
    "### The `method` Attribute\n",
    "The method attribute specifies the HTTP method (GET or POST) to be used when submitting the form data. Default is GET.\n",
    "### The `target` Attribute\n",
    "The target attribute specifies if the submitted result will open in a new browser tab, a frame, or in the current window.<br>\n",
    "The default value is \"_self\" which means the form will be submitted in the current window.<br>\n",
    "To make the form result open in a new browser tab, use the value \"_blank\""
   ]
  },
  {
   "cell_type": "markdown",
   "metadata": {},
   "source": [
    "***\n",
    "# Flask web form"
   ]
  },
  {
   "cell_type": "markdown",
   "metadata": {},
   "source": [
    "## First rule: Be lazy,  use packages\n",
    "\n",
    "WTForms is a python package that generate web forms from models. Flask has a wrapper for it that is called `flask-wtf`, install it."
   ]
  },
  {
   "cell_type": "markdown",
   "metadata": {},
   "source": [
    "## Second rule: Protect your site\n",
    "Once you start to deal with things that are specific to each user (like a form, or a login), you need to encrypt the traffic between your server and the user.<br><br>\n",
    "Encryption is a hard processus that is handled by flask, but he need one thing, a secret key (a lot of explanations on why are available on internet, for example: see <a href=\"https://strongarm.io/blog/how-https-works/\">This</a>).<br><br>\n",
    "This secret key has to be defined in the configuration of the app. App configuration is a dictionnary, you can change his entries like in a normal dict (`my_dict[my_key] = value`). <br>\n",
    "*This should be done in the main python file*"
   ]
  },
  {
   "cell_type": "code",
   "execution_count": 3,
   "metadata": {
    "scrolled": false
   },
   "outputs": [
    {
     "name": "stdout",
     "output_type": "stream",
     "text": [
      "\n"
     ]
    }
   ],
   "source": [
    "app.config['SECRET_KEY'] = 'you-will-never-guess'"
   ]
  },
  {
   "cell_type": "markdown",
   "metadata": {},
   "source": [
    "***\n",
    "## Create the form\n",
    "> Forms should be in `forms.py` file\n",
    "\n",
    "A form is a class than inheritate from `flask_wtf.FlaskForm`. You just have to add fields. Fields are classes too, they can be taken from `wtforms`. <br>\n",
    "An example of field can be `wtforms.StringField` or `wtforms.PasswordField`, a list can be found on the <a href=\"http://wtforms.simplecodes.com/docs/0.6/fields.html#basic-fields\">wtforms documentation</a>.<br>\n",
    "Your forms classes dont need an `__init__` method since they already defined it in the parent class, fields should be class variables.<br>\n",
    "A field definition can have a lot of parameters (See <a href=\"http://wtforms.simplecodes.com/docs/0.6/fields.html#basic-fields\">documentation</a>). Here we will only define the label of the field."
   ]
  },
  {
   "cell_type": "code",
   "execution_count": null,
   "metadata": {},
   "outputs": [],
   "source": [
    "import flask_wtf\n",
    "import wtforms\n",
    "\n",
    "class MyForm(flask_wtf.FlaskForm):\n",
    "    \n",
    "    name     = wtforms.StringField(\"Name\")\n",
    "    password = wtforms.PasswordField(\"Password\")\n",
    "    bio      = wtforms.StringField(\"Bio\")\n",
    "    submit   = wtforms.SubmitField(\"Submit\")\n",
    "    "
   ]
  },
  {
   "cell_type": "markdown",
   "metadata": {},
   "source": [
    "### Now that we created the form class, we need to add it to a view\n",
    "And to add it to a view, we need to create a template for it, in a template, a form acts like a dictionnary, we access the fields with `form.field`, `form.field` can be called, it will display the field:"
   ]
  },
  {
   "cell_type": "raw",
   "metadata": {},
   "source": [
    "<form action=\"\" method=\"post\" novalidate>\n",
    "    {{ form.hidden_tag() }}\n",
    "    <p>\n",
    "        {{ form.username.label }}<br>\n",
    "        {{ form.username(size=32) }}\n",
    "    </p>\n",
    "    <p>\n",
    "        {{ form.password.label }}<br>\n",
    "        {{ form.password(size=32) }}\n",
    "    </p>\n",
    "    <p>\n",
    "        {{ form.bio.label }}<br>\n",
    "        {{ form.bio(size=240) }}<br>\n",
    "    </p>\n",
    "    <p>{{ form.submit() }}</p>\n",
    "</form>"
   ]
  },
  {
   "cell_type": "markdown",
   "metadata": {},
   "source": [
    "### Now we can add it to a view\n",
    "We first need to import it, and then pass it to the template rendering"
   ]
  },
  {
   "cell_type": "code",
   "execution_count": null,
   "metadata": {},
   "outputs": [],
   "source": [
    "from app import app\n",
    "from app import forms\n",
    "import flask\n",
    "\n",
    "@app.route('/myform')\n",
    "def myform():\n",
    "    form = forms.MyForm()\n",
    "    return flask.render_template('myform.html', form=form)"
   ]
  },
  {
   "cell_type": "markdown",
   "metadata": {},
   "source": [
    "### But we need to receive this data\n",
    "When the form is submitted, the page is refreshed, we can check if the form has been submitted with `validate_on_submit()` function.<br>\n",
    "Because they are attributes of the form. fields can be received this way `form.fieldname`, they got a `data` attribute that return the input from the user."
   ]
  },
  {
   "cell_type": "code",
   "execution_count": null,
   "metadata": {},
   "outputs": [],
   "source": [
    "from app import app\n",
    "from app import forms\n",
    "import flask\n",
    "\n",
    "@app.route('/myform')\n",
    "def myform():\n",
    "    form = forms.MyForm()\n",
    "    if form.validate_on_submit():\n",
    "        username = form.username.data\n",
    "        password = form.password.data\n",
    "        bio      = form.bio.data\n",
    "        \n",
    "        # Do something with the data\n",
    "        \n",
    "        \n",
    "    return flask.render_template('myform.html', form=form)"
   ]
  },
  {
   "cell_type": "markdown",
   "metadata": {},
   "source": [
    "### Add validators\n",
    "A lot of validators are available from `wtforms.validators`, one important is `data_requiered` which raise an error if no data is entered in a field<br>\n",
    "Every error is stored in a list: `form.field.errors`.<br>\n",
    "To display them, you need to modify the template"
   ]
  }
 ],
 "metadata": {
  "kernelspec": {
   "display_name": "Python 3",
   "language": "python",
   "name": "python3"
  },
  "language_info": {
   "codemirror_mode": {
    "name": "ipython",
    "version": 3
   },
   "file_extension": ".py",
   "mimetype": "text/x-python",
   "name": "python",
   "nbconvert_exporter": "python",
   "pygments_lexer": "ipython3",
   "version": "3.7.3"
  }
 },
 "nbformat": 4,
 "nbformat_minor": 2
}
