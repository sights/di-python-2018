{
 "cells": [
  {
   "cell_type": "markdown",
   "metadata": {},
   "source": [
    "# Flask shell"
   ]
  },
  {
   "cell_type": "markdown",
   "metadata": {},
   "source": [
    "Flask provide a shell that can be runned by executing `$ flask shell`, if nothing is configured, it's just a python shell.<br>\n",
    "\n",
    "<a href=\"http://flask.pocoo.org/docs/1.0/shell/\">Documentation</a>"
   ]
  },
  {
   "cell_type": "markdown",
   "metadata": {},
   "source": [
    "# Flask shell context\n"
   ]
  },
  {
   "cell_type": "markdown",
   "metadata": {},
   "source": [
    "## A context is some variables that are pre imported in the shell\n",
    "\n",
    "Those variables are called a context, they can be defined in a function which will be decorated by the `app.shell_context_processor` decorator.\n",
    "It should be declared in your `FLASK_APP` file. <br>\n",
    "This function should return a dictionnary of keyword arguments, which look like this"
   ]
  },
  {
   "cell_type": "code",
   "execution_count": null,
   "metadata": {},
   "outputs": [],
   "source": [
    "from app import app, db\n",
    "from app.models import MyModel\n",
    "\n",
    "@app.shell_context_processor\n",
    "def make_shell_context():\n",
    "    return {'db': db, 'MyModel': MyModel}"
   ]
  },
  {
   "cell_type": "markdown",
   "metadata": {},
   "source": [
    "# Playing with the shell"
   ]
  },
  {
   "cell_type": "markdown",
   "metadata": {},
   "source": [
    "Shell can be really useful to test things, add/delete models to the database, generate objects etc.."
   ]
  }
 ],
 "metadata": {
  "kernelspec": {
   "display_name": "Python 3",
   "language": "python",
   "name": "python3"
  },
  "language_info": {
   "codemirror_mode": {
    "name": "ipython",
    "version": 3
   },
   "file_extension": ".py",
   "mimetype": "text/x-python",
   "name": "python",
   "nbconvert_exporter": "python",
   "pygments_lexer": "ipython3",
   "version": "3.7.3"
  }
 },
 "nbformat": 4,
 "nbformat_minor": 2
}
