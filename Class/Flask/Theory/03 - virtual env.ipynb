{
 "cells": [
  {
   "cell_type": "markdown",
   "metadata": {},
   "source": [
    "# Virtualenv"
   ]
  },
  {
   "cell_type": "markdown",
   "metadata": {},
   "source": [
    "Imagine you have an application that needs the version 3 of beautiful soup, and another that needs the version 2, how can you use both of these applications ? "
   ]
  },
  {
   "cell_type": "markdown",
   "metadata": {},
   "source": [
    "### What is virtualenv ?\n",
    "Virtualenv is a tool which allows us to make isolated python environments. It allows you to install packages inside it."
   ]
  },
  {
   "cell_type": "markdown",
   "metadata": {},
   "source": [
    "### Installing virtualenv\n",
    "Installing virtualenv can be done with *pip*<br>\n",
    "> `$ pip install virtualenv`"
   ]
  },
  {
   "cell_type": "markdown",
   "metadata": {},
   "source": [
    "*** \n",
    "### Using virtualenv\n",
    "\n",
    "First, we need to create a virtual env, this can be done with:<br>\n",
    "> `$ virtualenv my_environnement`<br>\n",
    "\n",
    "And then we just need to activate it by running: <br>\n",
    "> On unix: `$ source my_environnement/bin/activate`<br>\n",
    "> On Windows: `$ my_environnement/Scripts/activate`\n",
    "\n",
    "To deactivate it:\n",
    "> `$ deactivate`"
   ]
  },
  {
   "cell_type": "markdown",
   "metadata": {},
   "source": [
    "***\n",
    "See: <a href=\"https://docs.python-guide.org/dev/virtualenvs/\">Virtualenv documentation</a>"
   ]
  }
 ],
 "metadata": {
  "kernelspec": {
   "display_name": "Python 3",
   "language": "python",
   "name": "python3"
  },
  "language_info": {
   "codemirror_mode": {
    "name": "ipython",
    "version": 3
   },
   "file_extension": ".py",
   "mimetype": "text/x-python",
   "name": "python",
   "nbconvert_exporter": "python",
   "pygments_lexer": "ipython3",
   "version": "3.6.5"
  }
 },
 "nbformat": 4,
 "nbformat_minor": 2
}
