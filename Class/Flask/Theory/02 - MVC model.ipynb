{
 "cells": [
  {
   "cell_type": "markdown",
   "metadata": {},
   "source": [
    "# Models-Views-Controller"
   ]
  },
  {
   "cell_type": "markdown",
   "metadata": {},
   "source": [
    "### MVC model is the base of every flask operations"
   ]
  },
  {
   "cell_type": "markdown",
   "metadata": {},
   "source": [
    "***\n",
    "### Everything start with a request, the user can make requests by calling URLs\n",
    "This URL will be *routed* to a function"
   ]
  },
  {
   "cell_type": "markdown",
   "metadata": {},
   "source": [
    "\n",
    "***\n",
    "## Views\n",
    "As a user, you only see views, views are the rendered page, it's what the user sees.\n",
    "***\n",
    "## Models\n",
    "Models are the data, the objects that compose your page (the users, the posts, the comments, the pics...)\n",
    "***\n",
    "## Controller \n",
    "Controller is the constructor, he knows how to take _models_ and assemble them to make *views*\n"
   ]
  },
  {
   "cell_type": "markdown",
   "metadata": {},
   "source": [
    "***\n",
    "# How it work\n",
    "\n",
    "1) A user send a request (by entering a URL)<br>\n",
    "2) The request is routed to a function of the controller<br>\n",
    "3) The controller uses the models to retrieve necessary data<br>\n",
    "4) The controller build the view with the data from the models<br>\n",
    "5) The controller render the view and send it back to the user<br>"
   ]
  }
 ],
 "metadata": {
  "kernelspec": {
   "display_name": "Python 3",
   "language": "python",
   "name": "python3"
  },
  "language_info": {
   "codemirror_mode": {
    "name": "ipython",
    "version": 3
   },
   "file_extension": ".py",
   "mimetype": "text/x-python",
   "name": "python",
   "nbconvert_exporter": "python",
   "pygments_lexer": "ipython3",
   "version": "3.6.5"
  }
 },
 "nbformat": 4,
 "nbformat_minor": 2
}
