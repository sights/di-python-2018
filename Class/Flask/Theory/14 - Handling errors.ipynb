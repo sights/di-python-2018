{
 "cells": [
  {
   "cell_type": "markdown",
   "metadata": {},
   "source": [
    "# Handling errors"
   ]
  },
  {
   "cell_type": "markdown",
   "metadata": {},
   "source": [
    "## Internal server error and the debug mode\n",
    "Internal server error is an error in your python code.<br>\n",
    "Flask provides a debug mode that show you the trace on the web page.<br>\n",
    "You can enable it by changing the `FLASK_DEBUG` variable, in your terminal:<br>"
   ]
  },
  {
   "cell_type": "raw",
   "metadata": {},
   "source": [
    "$ export FLASK_DEBUG=1 "
   ]
  },
  {
   "cell_type": "markdown",
   "metadata": {},
   "source": [
    "## Other errors\n",
    "There is also HTTP errors (404, 500...)<br>\n",
    "By default, the browser just show a basic error page, but you can customize it.<br>\n",
    "You can create a view to handle a certain error.<br>\n",
    "This view has to be decorated with the `app.errorhandler` decorator, it receives the error code as argument."
   ]
  },
  {
   "cell_type": "code",
   "execution_count": null,
   "metadata": {},
   "outputs": [],
   "source": [
    "import flask\n",
    "\n",
    "@app.errorhandler(404)\n",
    "def error_404(error):\n",
    "    return flask.render_template('404_error.html'), 404"
   ]
  },
  {
   "cell_type": "markdown",
   "metadata": {},
   "source": [
    "If you change the errors, you need to import `error` at the end of the `__init__.py`."
   ]
  },
  {
   "cell_type": "code",
   "execution_count": null,
   "metadata": {},
   "outputs": [],
   "source": [
    "#...\n",
    "\n",
    "from app import routes, models, errors"
   ]
  }
 ],
 "metadata": {
  "kernelspec": {
   "display_name": "Python 3",
   "language": "python",
   "name": "python3"
  },
  "language_info": {
   "codemirror_mode": {
    "name": "ipython",
    "version": 3
   },
   "file_extension": ".py",
   "mimetype": "text/x-python",
   "name": "python",
   "nbconvert_exporter": "python",
   "pygments_lexer": "ipython3",
   "version": "3.7.3"
  }
 },
 "nbformat": 4,
 "nbformat_minor": 2
}
