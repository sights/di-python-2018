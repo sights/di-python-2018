{
 "cells": [
  {
   "cell_type": "markdown",
   "metadata": {},
   "source": [
    "# Structure of the project"
   ]
  },
  {
   "cell_type": "markdown",
   "metadata": {},
   "source": [
    "## Once you have big projects, you need to organize your folders\n",
    "Let's create a new project called `blogs`"
   ]
  },
  {
   "cell_type": "markdown",
   "metadata": {},
   "source": [
    "# 1) The `app` folder\n",
    "\n",
    "This folder will contain every file that is part of the application: the models, the views, the templates etc...<br>\n",
    "<br>\n",
    "**** \n",
    "### `__init__.py`\n",
    "This folder is a python package, we can add a `__init__.py` file that will be ran when the package is imported.<br>\n",
    "In this `__init__.py` file, we're going to define every big variable, like the app and the database. For now, let's only define the app.\n",
    "<br>\n",
    "<br>"
   ]
  },
  {
   "cell_type": "code",
   "execution_count": 3,
   "metadata": {
    "tags": [
     "__init__.py"
    ]
   },
   "outputs": [],
   "source": [
    "import flask\n",
    "\n",
    "app = flask.Flask(__name__) # Remember: __name__ is the name of the file where the code is written"
   ]
  },
  {
   "cell_type": "markdown",
   "metadata": {},
   "source": [
    "***\n",
    "### `templates`\n",
    "\n",
    "This folder contains every templates (html files) that the app need, let's add `index.html`"
   ]
  },
  {
   "cell_type": "raw",
   "metadata": {},
   "source": [
    "{% extends \"base.html\" %}\n",
    "\n",
    "{% block content %}\n",
    "    <h1>Posts:</h1>\n",
    "    {% for post in posts %}\n",
    "    <div><p>{{ post.author }} says: <b>{{ post.body }}</b></p></div>\n",
    "    {% endfor %}\n",
    "{% endblock %}"
   ]
  },
  {
   "cell_type": "markdown",
   "metadata": {},
   "source": [
    " "
   ]
  },
  {
   "cell_type": "markdown",
   "metadata": {},
   "source": [
    "\n",
    "***\n",
    "\n",
    "\n",
    "### `routes.py`\n",
    "This file will contain every view of the app, let's create a real quick one.\n",
    "<br>"
   ]
  },
  {
   "cell_type": "code",
   "execution_count": null,
   "metadata": {
    "scrolled": true
   },
   "outputs": [],
   "source": [
    "# First, we are in a different file, so we need to import the app\n",
    "import flask\n",
    "from app import app    # app.app is package_name.variable_name\n",
    "\n",
    "@app.route(\"/\")\n",
    "def index():\n",
    "    posts = [\n",
    "        {\"author\":\"Eyal\", \"body\":\"I love python\"},\n",
    "        {\"author\":\"Fish\", \"body\":\"I love water\"},\n",
    "        {\"author\":\"Herpetolog\", \"body\":\"I love pythons\"},\n",
    "    ]\n",
    "    return flask.render_template(posts=posts)"
   ]
  },
  {
   "cell_type": "markdown",
   "metadata": {},
   "source": [
    "## Now in the project folder, let's add the main file\n",
    "Called `blogs.py`.<br>\n",
    "In this file, we want to import the app and then run it"
   ]
  },
  {
   "cell_type": "code",
   "execution_count": null,
   "metadata": {},
   "outputs": [],
   "source": [
    "from app import app\n",
    "\n",
    "if __name__ == \"__main__\":         # Protect this code to be ran if he is imported\n",
    "    app.run(port=5000, debug=True)"
   ]
  },
  {
   "cell_type": "markdown",
   "metadata": {},
   "source": [
    "***\n",
    "\n",
    "## For now, here is how the project looks like:\n",
    "\n"
   ]
  },
  {
   "cell_type": "raw",
   "metadata": {},
   "source": [
    "blogs/\n",
    "- app/\n",
    "-- __init__.py\n",
    "-- routes\n",
    "-- templates/\n",
    "--- index.html\n",
    "- blogs.py"
   ]
  },
  {
   "cell_type": "markdown",
   "metadata": {},
   "source": [
    "# Let's run it"
   ]
  },
  {
   "cell_type": "markdown",
   "metadata": {},
   "source": [
    "We are no longer running the project inside pycharm, now we will run it in terminal.<br>\n",
    "In terminal, you need to activate the virtualenv, and then you can launch flask commands by typing `$ flask <command>`.<br>\n",
    "The first command that we want to use is `$ flask run`, this command will launch the main app of the project. But to make this work, we need to tell flask which file is the main one. This is done by typing:\n",
    "> Unix: `$ export FLASK_APP=<your_main_file>`<br>\n",
    "> Windows: `$ set FLASK_APP=<your_main_file>`\n",
    "<br>\n",
    "\n",
    "And now we can launch `$ flask run`"
   ]
  },
  {
   "cell_type": "markdown",
   "metadata": {},
   "source": [
    "***\n",
    "> Get back after reading theory on web forms\n",
    "***"
   ]
  },
  {
   "cell_type": "markdown",
   "metadata": {},
   "source": [
    "# Add a `forms.py` file \n",
    "This file should contain every form of the app."
   ]
  }
 ],
 "metadata": {
  "kernelspec": {
   "display_name": "Python 3",
   "language": "python",
   "name": "python3"
  },
  "language_info": {
   "codemirror_mode": {
    "name": "ipython",
    "version": 3
   },
   "file_extension": ".py",
   "mimetype": "text/x-python",
   "name": "python",
   "nbconvert_exporter": "python",
   "pygments_lexer": "ipython3",
   "version": "3.7.3"
  }
 },
 "nbformat": 4,
 "nbformat_minor": 2
}
