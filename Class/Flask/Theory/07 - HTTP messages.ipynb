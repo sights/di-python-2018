{
 "cells": [
  {
   "cell_type": "markdown",
   "metadata": {},
   "source": [
    "# HTTP Request"
   ]
  },
  {
   "cell_type": "markdown",
   "metadata": {},
   "source": [
    "### 1 - Start line\n",
    "Contains three elements:<br>\n",
    "-  The HTTP method<br>\n",
    "-  The request target<br>\n",
    "> It can be an absolute path, a URL, a domain name..\n",
    "-  The HTTP version<br>\n",
    "__Example:__<br>"
   ]
  },
  {
   "cell_type": "raw",
   "metadata": {},
   "source": [
    "POST / HTTP/1.1\n",
    "GET /background.png HTTP/1.0"
   ]
  },
  {
   "cell_type": "markdown",
   "metadata": {},
   "source": [
    "### 2 - Headers\n",
    "Headers are additional informations on the request, it's represented as a case-insensitive string followed by a colon `:`.\n",
    "-  General headers <br>\n",
    "like Via, apply to the message as a whole.<br><br>\n",
    "-  Request headers<br>\n",
    "like User-Agent, Accept-Type, modify the request by specifying it further (like Accept-Language), by giving context (like Referer), or by conditionally restricting it (like If-None).<br><br>\n",
    "-  Entity headers<br>\n",
    "like Content-Length which apply to the body of the request. Obviously, there is no such header transmitted if there is no body in the request.<br><br>\n",
    "__Example:__"
   ]
  },
  {
   "cell_type": "raw",
   "metadata": {},
   "source": [
    "Host: net.tutsplus.com\n",
    "User-Agent: Mozilla/5.0 (Windows; U; Windows NT 6.1; en-US; rv:1.9.1.5) Gecko/20091102 Firefox/3.5.5 (.NET CLR 3.5.30729)\n",
    "Accept: text/html,application/xhtml+xml,application/xml;q=0.9,*/*;q=0.8\n",
    "Accept-Language: en-us,en;q=0.5\n",
    "Accept-Encoding: gzip,deflate\n",
    "Accept-Charset: ISO-8859-1,utf-8;q=0.7,*;q=0.7\n",
    "Keep-Alive: 300\n",
    "Connection: keep-alive\n",
    "Cookie: PHPSESSID=r2t5uvjq435r4q7ib3vtdjq120\n",
    "Pragma: no-cache\n",
    "Cache-Control: no-cache"
   ]
  },
  {
   "cell_type": "markdown",
   "metadata": {},
   "source": [
    "<a href=\"https://developer.mozilla.org/en-US/docs/Web/HTTP/Headers\">More on headers</a>"
   ]
  },
  {
   "cell_type": "markdown",
   "metadata": {},
   "source": [
    "## 3 - Body\n",
    "Not all request have one, it's the content of the request.<br><Br>\n",
    "HTTP messages with a body need two headers: <a href=\"/en-US/docs/Web/HTTP/Headers/Content-Type\" title=\"The Content-Type entity header is used to indicate the media type of the resource.\"><code>Content-Type</code></a> and <a href=\"/en-US/docs/Web/HTTP/Headers/Content-Length\" title=\"The Content-Length entity header indicates&nbsp;the size of the entity-body, in bytes, sent to the recipient.\"><code>Content-Length</code></a> <br><Br>\n",
    "Body can be html, text, json etc..<Br><Br>\n",
    "__Example of a full HTTP request:__"
   ]
  },
  {
   "cell_type": "raw",
   "metadata": {},
   "source": [
    "GET /hello.htm HTTP/1.1\n",
    "User-Agent: Mozilla/4.0 (compatible; MSIE5.01; Windows NT)\n",
    "Host: www.tutorialspoint.com\n",
    "Accept-Language: en-us\n",
    "Accept-Encoding: gzip, deflate\n",
    "Connection: Keep-AliveHTTP/1.1 200 OK\n",
    "Accept-Ranges: bytes\n",
    "Content-Length: 12\n",
    "Content-Type: text/html\n",
    "\n",
    "Hello world!"
   ]
  },
  {
   "cell_type": "markdown",
   "metadata": {},
   "source": [
    "## GET and POST\n",
    "GET and POST are the two methods that are used to send data to the server.<br>\n",
    "<br>\n",
    "GET data is passed in the url request, example:<br>\n",
    "`/action_page.php?firstname=Mickey&lastname=Mouse`<br>\n",
    "<Br>\n",
    "While POST sends data in the body of the HTTP request.<br>\n",
    "Thus POST method doesn't display the data, use it in any cases you need to send sensitive information."
   ]
  },
  {
   "cell_type": "markdown",
   "metadata": {},
   "source": [
    "***\n",
    "# HTTP Response"
   ]
  },
  {
   "cell_type": "markdown",
   "metadata": {},
   "source": [
    "The start line of an HTTP response, called the status line, contains the following information:<br>\n",
    "\n",
    "-  The protocol version, usually HTTP/1.1.\n",
    "-  A status code, indicating success or failure of the request. Common status codes are 200, 404, or 302\n",
    "-  A status text. A brief, purely informational, textual description of the status code to help a human understand the HTTP message.<br><br>\n",
    "__Example:__\n"
   ]
  },
  {
   "cell_type": "raw",
   "metadata": {},
   "source": [
    "HTTP/1.1 404 Not Found."
   ]
  },
  {
   "cell_type": "markdown",
   "metadata": {},
   "source": [
    "## Status codes\n",
    "\n",
    "### 200 OK\n",
    "The request has succeeded. The meaning of a success varies depending on the HTTP method:\n",
    "\n",
    "### 400 Bad Request\n",
    "This response means that server could not understand the request due to invalid syntax.\n",
    " \n",
    "### 401 Unauthorized\n",
    "Although the HTTP standard specifies \"unauthorized\", semantically this response means \"unauthenticated\". That is, the client must authenticate itself to get the requested response.\n",
    "\n",
    "### 403 Forbidden\n",
    "The client does not have access rights to the content, i.e. they are unauthorized, so server is rejecting to give proper response. Unlike 401, the client's identity is known to the server.\n",
    "\n",
    "### 404 Not Found\n",
    "The server can not find requested resource. In the browser, this means the URL is not recognized. \n",
    "\n",
    "### 500 Internal Server Error\n",
    "The server has encountered a situation it doesn't know how to handle.\n",
    "<br>\n",
    "<br>\n",
    "<a href=\"https://developer.mozilla.org/en-US/docs/Web/HTTP/Status\">More on status codes</a>"
   ]
  },
  {
   "cell_type": "markdown",
   "metadata": {},
   "source": [
    "__Example of an HTTP response:__"
   ]
  },
  {
   "cell_type": "raw",
   "metadata": {},
   "source": [
    "HTTP/1.1 400 Bad Request\n",
    "Date: Sun, 18 Oct 2012 10:36:20 GMT\n",
    "Server: Apache/2.2.14 (Win32)\n",
    "Content-Length: 230\n",
    "Content-Type: text/html; charset=iso-8859-1\n",
    "Connection: Closed\n",
    "\n",
    "  \n",
    "<!DOCTYPE HTML PUBLIC \"-//IETF//DTD HTML 2.0//EN\">\n",
    "<html>\n",
    "<head>\n",
    "   <title>400 Bad Request</title>\n",
    "</head>\n",
    "<body>\n",
    "   <h1>Bad Request</h1>\n",
    "   <p>Your browser sent a request that this server could not understand.</p>\n",
    "   <p>The request line contained invalid characters following the protocol string.</p>\n",
    "</body>\n",
    "</html>"
   ]
  }
 ],
 "metadata": {
  "kernelspec": {
   "display_name": "Python 3",
   "language": "python",
   "name": "python3"
  },
  "language_info": {
   "codemirror_mode": {
    "name": "ipython",
    "version": 3
   },
   "file_extension": ".py",
   "mimetype": "text/x-python",
   "name": "python",
   "nbconvert_exporter": "python",
   "pygments_lexer": "ipython3",
   "version": "3.7.3"
  }
 },
 "nbformat": 4,
 "nbformat_minor": 2
}
