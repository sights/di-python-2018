{
 "cells": [
  {
   "cell_type": "markdown",
   "metadata": {},
   "source": [
    "# Database relationships"
   ]
  },
  {
   "cell_type": "markdown",
   "metadata": {},
   "source": [
    "For a minute, forget about the database models, let's take a simple class as example.<br>\n",
    "Let's take the example of a `Human` object, which have a d.og.<br>\n",
    "The dog is assigned to the human, it's an attribute of the human.<br>\n",
    "The question is, what do we need to put in the human class, as `self.dog` ? <br>\n",
    "The dog's name ? <br>\n",
    "The dog's race ? <br>\n",
    "<br>\n",
    "The best thing to do is to assign a whole entity to `self.dog`, a entire `Dog` object.<br>\n",
    "__For example:__"
   ]
  },
  {
   "cell_type": "code",
   "execution_count": 1,
   "metadata": {},
   "outputs": [
    {
     "name": "stdout",
     "output_type": "stream",
     "text": [
      "Woof!\n"
     ]
    }
   ],
   "source": [
    "class Human:\n",
    "    def __init__(self, name):\n",
    "        self.name = name \n",
    "        self.dog  = None  # Currently, the human has no dog\n",
    "    \n",
    "    def add_dog(self, dog):\n",
    "        self.dog = dog\n",
    "        \n",
    "class Dog:\n",
    "    def __init__(self, name, race):\n",
    "        self.name = name\n",
    "        self.race = race\n",
    "    \n",
    "    def bark(self):\n",
    "        print(\"Woof!\")\n",
    "        \n",
    "my_human = Human(\"John\")\n",
    "my_dog   = Dog(\"Rex\", \"Bulldog\")\n",
    "\n",
    "my_human.add_dog(my_dog)\n",
    "my_human.dog.bark()\n",
    "        "
   ]
  },
  {
   "cell_type": "markdown",
   "metadata": {},
   "source": [
    "Here we added an dog object to the human object, in fact `self.dog` is an address, the address of `my_dog`, we can checking by typing:"
   ]
  },
  {
   "cell_type": "code",
   "execution_count": 2,
   "metadata": {},
   "outputs": [
    {
     "name": "stdout",
     "output_type": "stream",
     "text": [
      "<__main__.Dog object at 0x7fc98c411278>\n",
      "<__main__.Dog object at 0x7fc98c411278>\n"
     ]
    }
   ],
   "source": [
    "print(my_dog)\n",
    "print(my_human.dog)"
   ]
  },
  {
   "cell_type": "markdown",
   "metadata": {},
   "source": [
    "We can see that `my_dog` and `my_human.dog` are the same addresses, inserting a object address in an object attribute is called a `foreign key`. The last thing that we need to do is assigning the human to the dog."
   ]
  },
  {
   "cell_type": "code",
   "execution_count": 3,
   "metadata": {},
   "outputs": [
    {
     "name": "stdout",
     "output_type": "stream",
     "text": [
      "Woof!\n",
      "<__main__.Human object at 0x7fc98c411828>\n"
     ]
    }
   ],
   "source": [
    "class Human:\n",
    "    def __init__(self, name):\n",
    "        self.name = name \n",
    "        self.dog  = None  # Currently, the human has no dog\n",
    "    \n",
    "    def add_dog(self, dog):\n",
    "        self.dog = dog\n",
    "        dog.human = self\n",
    "        \n",
    "class Dog:\n",
    "    def __init__(self, name, race):\n",
    "        self.name = name\n",
    "        self.race = race\n",
    "        \n",
    "        self.human = None\n",
    "        \n",
    "    def bark(self):\n",
    "        print(\"Woof!\")\n",
    "        \n",
    "my_human = Human(\"John\")\n",
    "my_dog   = Dog(\"Rex\", \"Bulldog\")\n",
    "\n",
    "my_human.add_dog(my_dog)\n",
    "my_human.dog.bark()\n",
    "\n",
    "print(my_dog.human)"
   ]
  },
  {
   "cell_type": "markdown",
   "metadata": {},
   "source": [
    "## One-to-one\n",
    "A one-to-one relationship is a relation between two single objects, here, every dog has one human and every human has one dog.<br>\n",
    "\n",
    "## One-to-many\n",
    "Consider a human that can have more than one dog.<br>\n",
    "The class will look like this:<br>"
   ]
  },
  {
   "cell_type": "code",
   "execution_count": 7,
   "metadata": {},
   "outputs": [
    {
     "name": "stdout",
     "output_type": "stream",
     "text": [
      "Woof!\n",
      "Woof!\n",
      "<__main__.Human object at 0x7fc98c38d1d0>\n"
     ]
    }
   ],
   "source": [
    "class Human:\n",
    "    def __init__(self, name):\n",
    "        self.name = name \n",
    "        self.dogs  = []  # Currently, the human has no dog\n",
    "    \n",
    "    def add_dog(self, dog):\n",
    "        self.dogs.append(dog)\n",
    "        dog.human = self\n",
    "        \n",
    "class Dog:\n",
    "    def __init__(self, name, race):\n",
    "        self.name = name\n",
    "        self.race = race\n",
    "        \n",
    "        self.human = None\n",
    "        \n",
    "    def bark(self):\n",
    "        print(\"Woof!\")\n",
    "        \n",
    "my_human = Human(\"John\")\n",
    "my_dog   = Dog(\"Rex\", \"Bulldog\")\n",
    "my_dog2  = Dog(\"Cookie\", \"Chinchilla\")\n",
    "\n",
    "my_human.add_dog(my_dog)\n",
    "my_human.add_dog(my_dog2)\n",
    "\n",
    "for dog in my_human.dogs:\n",
    "    dog.bark()\n",
    "\n",
    "print(my_dog.human)"
   ]
  },
  {
   "cell_type": "markdown",
   "metadata": {},
   "source": [
    "Here, every dog has one human but every human has many dogs, it's called a `One-To-Many` relationship."
   ]
  },
  {
   "cell_type": "markdown",
   "metadata": {},
   "source": [
    "In flask, it can be translated with `db.relationship`:"
   ]
  },
  {
   "cell_type": "code",
   "execution_count": null,
   "metadata": {},
   "outputs": [],
   "source": [
    "from app import db\n",
    "\n",
    "class Human(db.Model):\n",
    "    name = db.Column(db.String(64), index=True, unique=True)\n",
    "    dogs = db.relationship('Post', backref='human', lazy='dynamic')\n",
    "\n",
    "class Dog(db.Model):\n",
    "    name = db.Column(db.String(64), index=True)\n",
    "    race = db.Column(db.String(64))\n",
    "    master = db.Column(db.Integer, db.ForeignKey('human.name'))\n"
   ]
  },
  {
   "cell_type": "markdown",
   "metadata": {},
   "source": [
    "In the human side, we are adding a `db.relationship` field, this is a field that represent a link with another object, `backref` is the name of the attribute that represents the human in the dog class.<br>\n",
    "For example, declaring a dog:<br>"
   ]
  },
  {
   "cell_type": "code",
   "execution_count": null,
   "metadata": {},
   "outputs": [],
   "source": [
    "my_human = Human(name=\"John\")\n",
    "my_dog = Dog(name=\"Rex\", race=\"Chinchilla\", human=my_human)"
   ]
  },
  {
   "cell_type": "markdown",
   "metadata": {},
   "source": [
    "In the dog side, we added a master field, that is linked to the `name` field of the human, which is precised by the `db.ForeignKey` argument."
   ]
  },
  {
   "cell_type": "code",
   "execution_count": null,
   "metadata": {},
   "outputs": [],
   "source": []
  }
 ],
 "metadata": {
  "kernelspec": {
   "display_name": "Python 3",
   "language": "python",
   "name": "python3"
  },
  "language_info": {
   "codemirror_mode": {
    "name": "ipython",
    "version": 3
   },
   "file_extension": ".py",
   "mimetype": "text/x-python",
   "name": "python",
   "nbconvert_exporter": "python",
   "pygments_lexer": "ipython3",
   "version": "3.7.3"
  }
 },
 "nbformat": 4,
 "nbformat_minor": 2
}
