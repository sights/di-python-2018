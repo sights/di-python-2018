{
 "cells": [
  {
   "cell_type": "markdown",
   "metadata": {},
   "source": [
    "# Add a post with a web form"
   ]
  },
  {
   "cell_type": "markdown",
   "metadata": {},
   "source": [
    "### Form\n",
    "Let's create a form `NewPostForm` and add the following fields:\n",
    "-  username\n",
    "-  post\n",
    "-  signature\n"
   ]
  },
  {
   "cell_type": "code",
   "execution_count": null,
   "metadata": {
    "scrolled": false
   },
   "outputs": [],
   "source": [
    "import flask_wtf\n",
    "import wtforms\n",
    "\n",
    "class NewpostForm(flask_wtf.FlaskForm):\n",
    "    \n",
    "    username = wtforms.StringField(label=\"password\")\n",
    "    title = wtforms.StringField(label=\"Title\")\n",
    "    post = wtforms.StringField(label=\"Post\")\n",
    "    submit = wtforms.SubmitField(label=\"Add post\")"
   ]
  },
  {
   "cell_type": "markdown",
   "metadata": {},
   "source": [
    "### View\n",
    "Now that we have a post timelines, we need a page to add a post, let's create a view and call it `new_post`.\n",
    ">  Reminder: To use something from another file, we need to import it<br>\n",
    "\n",
    "Basically, a form view needs to check if the form is validated, if it's not, the view needs to display it, if it is, process it."
   ]
  },
  {
   "cell_type": "code",
   "execution_count": null,
   "metadata": {},
   "outputs": [],
   "source": [
    "from app import forms\n",
    "\n",
    "app.route(\"/posts/new\")\n",
    "def new_post():\n",
    "    form = forms.NewPostForm() # Create a form\n",
    "    \n",
    "    if form.validate_on_submit():\n",
    "        # CODE...\n",
    "        return return_page\n",
    "    \n",
    "    return flask.render_template(\"myform.html\", form=form)\n",
    "    \n",
    "    "
   ]
  },
  {
   "cell_type": "markdown",
   "metadata": {},
   "source": [
    "### Template\n",
    "We also need to create the template to display that form"
   ]
  },
  {
   "cell_type": "raw",
   "metadata": {},
   "source": [
    "{% extends \"base.html\" %}\n",
    "\n",
    "{% block content %}\n",
    "<form method=\"post\" action=\"\" novalidate>\n",
    "    {{ form.hidden_tag() }}\n",
    "\n",
    "    <p>\n",
    "        {{ form.username.label }}\n",
    "        {{ form.username(size=64) }}\n",
    "    </p>\n",
    "    <p>\n",
    "        {{ form.title.label }}\n",
    "        {{ form.title(size=64) }}\n",
    "    </p>\n",
    "    <p>\n",
    "        {{ form.post.label }}\n",
    "        {{ form.post(size=128) }}\n",
    "    </p>\n",
    "    <p>\n",
    "        {{ form.submit() }}\n",
    "    </p>\n",
    "\n",
    "</form>\n",
    "{% endblock %}"
   ]
  },
  {
   "cell_type": "markdown",
   "metadata": {},
   "source": [
    "### Field validation\n"
   ]
  },
  {
   "cell_type": "markdown",
   "metadata": {},
   "source": [
    "### Using validators"
   ]
  },
  {
   "cell_type": "code",
   "execution_count": null,
   "metadata": {},
   "outputs": [],
   "source": [
    "import flask_wtf\n",
    "import wtforms\n",
    "from wtforms import validators as valids\n",
    "\n",
    "class NewpostForm(flask_wtf.FlaskForm):\n",
    "    \n",
    "    username = wtforms.StringField(label=\"password\", valid)\n",
    "    title = wtforms.StringField(label=\"Title\")\n",
    "    post = wtforms.StringField(label=\"Post\")\n",
    "    submit = wtforms.SubmitField(label=\"Add post\")"
   ]
  }
 ],
 "metadata": {
  "kernelspec": {
   "display_name": "Python 3",
   "language": "python",
   "name": "python3"
  },
  "language_info": {
   "codemirror_mode": {
    "name": "ipython",
    "version": 3
   },
   "file_extension": ".py",
   "mimetype": "text/x-python",
   "name": "python",
   "nbconvert_exporter": "python",
   "pygments_lexer": "ipython3",
   "version": "3.7.3"
  }
 },
 "nbformat": 4,
 "nbformat_minor": 2
}
