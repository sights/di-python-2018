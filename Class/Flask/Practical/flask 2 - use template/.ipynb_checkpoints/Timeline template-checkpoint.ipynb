{
 "cells": [
  {
   "cell_type": "markdown",
   "metadata": {},
   "source": [
    "## Let's do a template a bit more advanced\n",
    "This will be the template for a timeline, with posts from different users"
   ]
  },
  {
   "cell_type": "markdown",
   "metadata": {},
   "source": [
    "### First, let's put a default title in case nothing is passed as title"
   ]
  },
  {
   "cell_type": "raw",
   "metadata": {},
   "source": [
    "<!DOCTYPE html>\n",
    "<html>\n",
    "    <head>\n",
    "        {% if title %}\n",
    "            <title>{{ title }}</title>\n",
    "        {% else %}\n",
    "            <title>User Page</title>\n",
    "        {% endif %}\n",
    "    </head>\n",
    "</html>"
   ]
  },
  {
   "cell_type": "markdown",
   "metadata": {},
   "source": [
    "### Now let's add posts"
   ]
  },
  {
   "cell_type": "raw",
   "metadata": {},
   "source": [
    "<!DOCTYPE html>\n",
    "<html>\n",
    "    <head>\n",
    "         {% if title %}\n",
    "             <title>{{ title }}</title>\n",
    "         {% else %}\n",
    "             <title>Default Title</title>\n",
    "         {% endif %}\n",
    "    </head>\n",
    "\n",
    "    <body>\n",
    "         {% for post in posts %}\n",
    "            <p> {{ post[0] }} says: {{ post[1] }}</p>\n",
    "        {% endfor %}\n",
    "    </body>\n",
    "</html>"
   ]
  },
  {
   "cell_type": "markdown",
   "metadata": {},
   "source": [
    "### Posts need to be models, but let's just fake them with a list"
   ]
  },
  {
   "cell_type": "code",
   "execution_count": null,
   "metadata": {},
   "outputs": [],
   "source": [
    "@app.route('/timeline')\n",
    "def timeline():\n",
    "    posts = [\n",
    "        ('John', 'Beautiful day in New York!'),\n",
    "        ('Micheal', 'Loved the last Star Wars !'),\n",
    "        ('Sundar Pichai', 'I love python')\n",
    "    ]\n",
    "    return flask.render_template(\"timeline.html\", posts=posts)  "
   ]
  },
  {
   "cell_type": "markdown",
   "metadata": {},
   "source": [
    "*** \n",
    "# Exercises\n",
    "-  Create a view routed to `users/` that display a list of every user on the site, for now, users are fakes, just create a list of users and pass it as arguments"
   ]
  }
 ],
 "metadata": {
  "kernelspec": {
   "display_name": "Python 3",
   "language": "python",
   "name": "python3"
  },
  "language_info": {
   "codemirror_mode": {
    "name": "ipython",
    "version": 3
   },
   "file_extension": ".py",
   "mimetype": "text/x-python",
   "name": "python",
   "nbconvert_exporter": "python",
   "pygments_lexer": "ipython3",
   "version": "3.6.5"
  }
 },
 "nbformat": 4,
 "nbformat_minor": 2
}
