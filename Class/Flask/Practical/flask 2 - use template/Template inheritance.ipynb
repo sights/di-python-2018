{
 "cells": [
  {
   "cell_type": "markdown",
   "metadata": {},
   "source": [
    "# Template inheritance"
   ]
  },
  {
   "cell_type": "markdown",
   "metadata": {},
   "source": [
    "### Most of the time, all your pages are based on the same template, it's the style of your site\n",
    "Let's implement a default base template for every of our views, for example: a navbar."
   ]
  },
  {
   "cell_type": "markdown",
   "metadata": {},
   "source": [
    "### First, we need to create the base template, called `base.html`"
   ]
  },
  {
   "cell_type": "raw",
   "metadata": {},
   "source": [
    "<!DOCTYPE html>\n",
    "<html lang=\"en\">\n",
    " <head>\n",
    "    <meta charset=\"UTF-8\">\n",
    "    {% if title %}\n",
    "        <title>{{ title }}</title>\n",
    "    {% else %}\n",
    "        <title>Default Title</title>\n",
    "    {% endif %}\n",
    " </head>\n",
    " <body>\n",
    "    <!--Add the navbar-->\n",
    "    <div id=\"navbar\">My blog: <a href=\"/index\">Home</a></div>\n",
    "    <hr>\n",
    "    \n",
    "    <!--Add a place for the future template content-->\n",
    "    {% block content %}{% endblock %}\n",
    "\n",
    " </body>\n",
    "</html>"
   ]
  },
  {
   "cell_type": "markdown",
   "metadata": {},
   "source": [
    "The block named `content` will be filled by our template"
   ]
  },
  {
   "cell_type": "markdown",
   "metadata": {},
   "source": [
    "### Let's modify the timeline template to display the navbar"
   ]
  },
  {
   "cell_type": "raw",
   "metadata": {},
   "source": [
    "{% extends \"base.html\" %}\n",
    "\n",
    "{% block content %}\n",
    "    {% for post in posts %}\n",
    "        <p> {{ post[0] }} says: {{ post[1] }}</p>\n",
    "    {% endfor %}\n",
    "{% endblock %}"
   ]
  },
  {
   "cell_type": "markdown",
   "metadata": {},
   "source": [
    "***\n",
    "# Exercise:\n",
    "-  Modify the index to display navbar\n",
    "-  In the base template, add a \"Welcome to my blog\" after the navbar "
   ]
  }
 ],
 "metadata": {
  "kernelspec": {
   "display_name": "Python 3",
   "language": "python",
   "name": "python3"
  },
  "language_info": {
   "codemirror_mode": {
    "name": "ipython",
    "version": 3
   },
   "file_extension": ".py",
   "mimetype": "text/x-python",
   "name": "python",
   "nbconvert_exporter": "python",
   "pygments_lexer": "ipython3",
   "version": "3.6.5"
  }
 },
 "nbformat": 4,
 "nbformat_minor": 2
}
